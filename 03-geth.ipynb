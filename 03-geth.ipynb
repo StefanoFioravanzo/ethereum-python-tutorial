{
 "cells": [
  {
   "cell_type": "markdown",
   "metadata": {},
   "source": [
    "## Geth\n",
    "\n",
    "`geth` is the entry point into the Ethereum network (main-, test- or private net), capable of running as a full node (default) archive node (retaining all historical state) or a light node (retrieving data live). It can be used by other processes as a gateway into the Ethereum network via JSON RPC endpoints exposed on top of HTTP, WebSocket and/or IPC transports.\n",
    "\n",
    "**Public Network**\n",
    "\n",
    "This is the real PoW Ethereum network, where you use real ether. Use this netowrk only once you are confident of your operations and tested properly your smart contracts on a private or test network.\n",
    "\n",
    "To run a full node on the main ehtereum network:\n",
    "\n",
    "```bash\n",
    "geth console\n",
    "```\n",
    "\n",
    "The command will do two things:\n",
    "\n",
    "- Start geth in fast sync mode (default, can be changed with the `--syncmode` flag), causing it to download more data in exchange for avoiding processing the entire history of the Ethereum network, which is very CPU intensive.\n",
    "- Start up Geth's built-in interactive JavaScript console, (via the trailing console subcommand) through which you can invoke all official web3 methods as well as Geth's own management APIs. This too is optional and if you leave it out you can always attach to an already running Geth instance with `geth attach`.\n",
    "\n",
    "\n",
    "**Test Network**\n",
    "\n",
    "Transitioning towards developers, if you'd like to play around with creating Ethereum contracts, you almost certainly would like to do that without any real money involved until you get the hang of the entire system. In other words, instead of attaching to the main network, you want to join the test network with your node, which is fully equivalent to the main network, but with play-Ether only.\n",
    "\n",
    "Geth can connect to two different test networks:\n",
    "\n",
    "- *Ropsten*: Best reproduces the current production environment, i.e. system and network conditions on the live Ethereum mainnet, because it's PoW net. Ether can be mined, or requested from a faucet. A downside is that it's not immune to spam attacks (due to PoW).  `geth --testnet` or `geth --networkid 3`\n",
    "- *Rinkeby*: PoA (Proof of Authority) testnet, immune to spam attacks (Ether supply is controlled by trusted parties). The downside is that it doesn't fully reproduce the current production environment as it uses PoA. Ether has to be requested from a faucet. `geth --rinkeby` or `geth --networkid 4`\n",
    "\n",
    "**Private network**\n",
    "\n",
    "An even more convenient way to test and play around with smart contracts is to use a private network. Indeed you can avoid downloading the entire chains of test networks (in the order of GB of size), and spin up a network in a matter of seconds. Setting up the first configuration of a private network can be a little bit more complicated than connecting to an existing one, though.\n",
    "\n",
    "**Light node**\n",
    "\n",
    "TODO\n",
    "\n",
    "Light nodes do not verify every block or transaction and may not have a copy of the current blockchain state. They rely on full nodes to provide them with missing details (or simply lack particular functionality). The advantage of light nodes is that they can get up and running much more quickly, can run on more computationally/memory constrained devices, and don’t eat up nearly as much storage. On the downside, there is an element of trust in other nodes (it varies based on client and probabilistic methods/heuristics can be used to reduce risk).\n",
    "\n",
    "You can start a geth light node with:\n",
    "\n",
    "```bash\n",
    "geth --light\n",
    "```"
   ]
  },
  {
   "cell_type": "markdown",
   "metadata": {},
   "source": [
    "## Setup a private network\n",
    "\n",
    "#### Single node network\n",
    "\n",
    "Setting up a single node private network is a matter of running a single command.\n",
    "\n",
    "```bash\n",
    "geth --dev --rpc --ipcpath ~/Library/Ethereum/geth.ipc --datadir ~/Library/Ethereum/mytestnet\n",
    "```\n",
    "\n",
    "The `--dev` flag tells `geth` to run the node in private mode (does not connect to any public network). The `--rpc` flag will enable the HTTP-RPC server, so that you can call the node's functions with an appropriate RPC library (e.g. Web3.py). The `--datadir` flag tells `geth` where to place the blockchain data. Finally `--ipcpath` indicates the locations of the ipc socket. \n",
    "\n",
    "> IPC is short for inter-process communication and is no standard file in your installation or environment but rather a domain socket. After you installed geth the ipc socket is not automatically created and its also not considerable a permanent resource.\n",
    ">\n",
    "> Mind that the `geth.ipc` socket only exists as long as geth is running. You can control the available apis with the `--ipcapi` flag. You can disable IPC with `--ipcdisable`."
   ]
  },
  {
   "cell_type": "markdown",
   "metadata": {},
   "source": [
    "#### Multiple nodes network\n",
    "\n",
    "**Choose a network ID**\n",
    "\n",
    "Since connections between nodes are valid only if peers have identical protocol version and network ID, you can effectively isolate your network by setting either of these to a non default value. You can use the `--networkid` command line option for this. The main network has id 1 (the default). So if you supply your own custom network ID which is different than the main network your nodes will not connect to other nodes and form a private network."
   ]
  },
  {
   "cell_type": "markdown",
   "metadata": {},
   "source": [
    "**Custom Genesis Block**\n",
    "\n",
    "Every blockchain starts with a genesis block, so we need to define a custom one to bootstrap our private chain. All the nodes need to be aware of this genesis block and agree upon it.\n",
    "\n",
    "```json\n",
    "{\n",
    "    \"config\": {\n",
    "        \"chainId\": 12345,\n",
    "        \"homesteadBlock\": 0,\n",
    "        \"eip155Block\": 0,\n",
    "        \"eip158Block\": 0\n",
    "    },\n",
    "    \"difficulty\": \"200000000\",\n",
    "    \"gasLimit\": \"2100000\",\n",
    "    \"alloc\": {\n",
    "        \"7df9a875a174b3bc565e6424a0050ebc1b2d1d82\": { \"balance\": \"300000\" },\n",
    "        \"f41c74c9ae680c1aa78f42e5647a62f353b7bdde\": { \"balance\": \"400000\" }\n",
    "    }\n",
    "}\n",
    "```\n",
    "\n",
    "TO initialize a chain that uses this block, run the following command:\n",
    "\n",
    "```bash\n",
    "geth --datadir path/to/data/folder init genesis.json\n",
    "```\n",
    "\n",
    "You can set the data folder to any custom data folder, just like the single node private chain we used before.\n",
    "\n",
    "After initialization, you can run nodes pointing to this data directory specifying the network id:\n",
    "\n",
    "```bash\n",
    "geth --datafir path/to/data/folder --networkid 12345\n",
    "```"
   ]
  },
  {
   "cell_type": "markdown",
   "metadata": {},
   "source": [
    "**Bootnode - Enable peer discovery**\n",
    "\n",
    "In a peer-to-peer netowrk, new nodes need some way to discover and connect to other nodes during the bootstrap phase. We can initialize a dedicated *bootstrap* node for this purpose:\n",
    "\n",
    "```bash\n",
    "bootnode --genkey=boot.key\n",
    "bootnode --nodekey=boot.key\n",
    "```\n",
    "\n",
    "Once online, the bootstrap node will display an URL that other nodes can use to connect to it.\n",
    "\n",
    "> NOTE: Make sure to replace the displayed IP address information (most probably [::]) with your externally accessible IP to get the actual enode URL."
   ]
  },
  {
   "cell_type": "markdown",
   "metadata": {},
   "source": [
    "**Start up new members**\n",
    "\n",
    "With the bootnode operational and externally reachable, start every subsequent Geth node pointed to the bootnode for peer discovery via the `--bootnodes` flag. It will probably also be desirable to keep the data directory of your private network separated, so do also specify a custom `--datadir` flag.\n",
    "\n",
    "```bash\n",
    "geth --datadir path/to/data/folder --networkid 12345 --bootnodes <bootnode-enode-url-from-above>\n",
    "```"
   ]
  },
  {
   "cell_type": "markdown",
   "metadata": {},
   "source": [
    "**Running a private miner**\n",
    "\n",
    "TODO\n",
    "\n",
    "Explain the concept of the DAG: https://ethereum.stackexchange.com/questions/1993/what-actually-is-a-dag"
   ]
  },
  {
   "cell_type": "markdown",
   "metadata": {},
   "source": [
    "#### Back up the `/keystore`!\n",
    "\n",
    "Each account’s private keys are encrypted and stored in the /keystore folder of the datadir. These should be backed up off of the hard drive in case of removal- whether accidental or malicious.\n",
    "\n",
    "- To restore an account after /keystore was removed, simply paste the backed-up files back to /keystore under the data directory\n",
    "- If trying to just clean up the blockchain, can do so with geth upgradedb or geth removedb – these will not affect the keystore"
   ]
  },
  {
   "cell_type": "markdown",
   "metadata": {},
   "source": [
    "## Py-Geth"
   ]
  },
  {
   "cell_type": "markdown",
   "metadata": {},
   "source": [
    "Py-Geth is a Python wrapper around running `geth` as a subprocess. The only requiremnet is the `geth` executable.\n",
    "\n",
    "**Installation**\n",
    "\n",
    "```bash\n",
    "pip install py-geth\n",
    "```"
   ]
  },
  {
   "cell_type": "markdown",
   "metadata": {},
   "source": [
    "**Basic Usage**\n",
    "\n",
    "You can easily connect to the main net buy running:"
   ]
  },
  {
   "cell_type": "code",
   "execution_count": null,
   "metadata": {},
   "outputs": [],
   "source": [
    "from geth import LiveGethProcess\n",
    "\n",
    "geth = LiveGethProcess()\n",
    "geth.start()\n",
    "# ... interact with the node using an rpc library\n",
    "geth.close()"
   ]
  },
  {
   "cell_type": "markdown",
   "metadata": {},
   "source": [
    "To launch a private network you need define a custom and, if needed, some overrides to default settings. By default the `DevGethProcess` sets up test chains in the default `datadir` used by `geth`. If you would like to change the location for these test chains, you can specify an alternative `base_dir`"
   ]
  },
  {
   "cell_type": "code",
   "execution_count": null,
   "metadata": {},
   "outputs": [],
   "source": [
    "from geth import LoggingMixin, DevGethProcess\n",
    "\n",
    "# Give a custon name to your private chain\n",
    "CHAIN_NAME = 'dev_chain'"
   ]
  },
  {
   "cell_type": "markdown",
   "metadata": {},
   "source": [
    "When testing it can be nice to see the logging output produced by the geth process. `py-geth` provides a mixin class that can be used to log the stdout and stderr output to a logfile.\n",
    "\n",
    "All logs will be written to logfiles in `./logs/` in the current directory.\n",
    "\n",
    "You can easily attach a separate shell to the log files:\n",
    "\n",
    "```bash\n",
    "tail -f ./logs/geth-<timestamp>-stderr.log\n",
    "tail -f ./logs/geth-<timestamp>-stdout.log\n",
    "```"
   ]
  },
  {
   "cell_type": "code",
   "execution_count": null,
   "metadata": {},
   "outputs": [],
   "source": [
    "class MyLoggingGeth(LoggingMixin, DevGethProcess):\n",
    "    pass"
   ]
  },
  {
   "cell_type": "code",
   "execution_count": null,
   "metadata": {},
   "outputs": [],
   "source": [
    "# You can override some of the default parameters that DevGethProcess sets.\n",
    "overrides = {\n",
    "    'mine': False,  # ----> Check how to disable mining. Throws error with miner_threads.\n",
    "    'miner_threads': 0\n",
    "}\n",
    "geth = MyLoggingGeth(chain_name=CHAIN_NAME, base_dir=\"./{}/testing\".format(CHAIN_NAME), overrides=overrides)\n",
    "\n",
    "# Start the process\n",
    "geth.start()"
   ]
  },
  {
   "cell_type": "markdown",
   "metadata": {},
   "source": [
    "TODO: It seems that DevGethProcess does not allow to disable mining (e.g., the generation of the DAG used for Ethash). Investigate this."
   ]
  },
  {
   "cell_type": "code",
   "execution_count": 22,
   "metadata": {},
   "outputs": [],
   "source": [
    "# You can get a lot of information about the state of the process\n",
    "def get_node_status():\n",
    "    print(\"RPC Ready: {}\".format(geth.is_rpc_ready))\n",
    "    print(\"IPC Ready: {}\".format(geth.is_ipc_ready))\n",
    "    print(\"DAG Generated Ready: {}\".format(geth.is_dag_generated))\n",
    "    print(\"IS MINING: {}\".format(geth.is_mining))"
   ]
  },
  {
   "cell_type": "code",
   "execution_count": 22,
   "metadata": {},
   "outputs": [],
   "source": [
    "# To stop the process:\n",
    "geth.stop()"
   ]
  },
  {
   "cell_type": "markdown",
   "metadata": {},
   "source": [
    "## References\n",
    "\n",
    "- https://github.com/ethereum/go-ethereum#running-a-private-miner\n",
    "- https://github.com/ethereum/go-ethereum/wiki/Private-network\n",
    "- Geth Command Line Options: https://github.com/ethereum/go-ethereum/wiki/Command-Line-Options"
   ]
  }
 ],
 "metadata": {
  "kernelspec": {
   "display_name": "Python 3",
   "language": "python",
   "name": "python3"
  },
  "language_info": {
   "codemirror_mode": {
    "name": "ipython",
    "version": 3
   },
   "file_extension": ".py",
   "mimetype": "text/x-python",
   "name": "python",
   "nbconvert_exporter": "python",
   "pygments_lexer": "ipython3",
   "version": "3.6.4"
  }
 },
 "nbformat": 4,
 "nbformat_minor": 2
}
