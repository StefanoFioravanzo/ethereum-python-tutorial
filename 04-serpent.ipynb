{
 "cells": [
  {
   "cell_type": "markdown",
   "metadata": {},
   "source": [
    "## Serpent\n",
    "\n",
    "docs:\n",
    "\n",
    "- https://github.com/ethereum/wiki/wiki/Serpent\n",
    "- https://mc2-umd.github.io/ethereumlab/docs/serpent_tutorial.pdf\n",
    "\n",
    "Serpent is one of the high-level programming languages used to write Ethereum contracts. The language, as suggested by its name, is designed to be very similar to Python; it is intended to be maximally clean and simple, combining many of the efficiency benefits of a low-level language with ease-of-use in programming style, and at the same time adding special domain-specific features for contract programming.\n",
    "\n",
    "Serpent have some limitations compared to Python:\n",
    "\n",
    "- Number wrapping: In Serpent numbers wrap aroung 2^256, for example the expression 3^(2^254)) evaluates to 1, while in Python numbers have potentially unlimited size.\n",
    "- No decimals\n",
    "- No list comprehensions\n",
    "- No first-class fucntions. There is no concept of persistence between function calls.\n",
    "- No persistent storage\n",
    "- `extern` statement, used to call functions from other contracts"
   ]
  },
  {
   "cell_type": "markdown",
   "metadata": {},
   "source": [
    "### Installation\n",
    "\n",
    "The easiest way to install Serpent in thourh the Pip management package system:\n",
    "\n",
    "```bash\n",
    "pip install ehtereum-serpent\n",
    "```\n",
    "\n",
    "In order to test Serpent programs, install also the `ethereum` package:\n",
    "\n",
    "```bash\n",
    "pip install ethereum\n",
    "```\n",
    "\n",
    "Pyethereum tester: https://github.com/ethereum/pyethereum/wiki/Using-pyethereum.tester"
   ]
  },
  {
   "cell_type": "code",
   "execution_count": 237,
   "metadata": {},
   "outputs": [],
   "source": [
    "import serpent\n",
    "import ethereum.tools.tester as t\n",
    "import ethereum.abi as abi\n",
    "import serpent\n",
    "import binascii\n",
    "import re\n",
    "import sys\n",
    "\n",
    "is_string = lambda x: isinstance(x, (str, str, bytes))"
   ]
  },
  {
   "cell_type": "markdown",
   "metadata": {},
   "source": [
    "## Test"
   ]
  },
  {
   "cell_type": "code",
   "execution_count": 238,
   "metadata": {},
   "outputs": [
    {
     "name": "stdout",
     "output_type": "stream",
     "text": [
      "Initializing chain from provided state\n"
     ]
    }
   ],
   "source": [
    "# program = open(\"./serpent_contracts/thousands.se\").read()\n",
    "# machine_code = serpent.compile(program)\n",
    "# # blockchain = t.State(0)\n",
    "# c = t.Chain()\n",
    "# contract = c.contract(program, language='serpent')\n",
    "# res = contract.get_confirmation()\n",
    "# res = serpent.enc(res)\n",
    "# if is_string(res):\n",
    "#     res = res.rstrip('\\x00')"
   ]
  },
  {
   "cell_type": "code",
   "execution_count": 259,
   "metadata": {},
   "outputs": [],
   "source": [
    "# def test_evm():\n",
    "#     evm_code = serpent.compile(serpent_code)\n",
    "#     translator = abi.ContractTranslator(serpent.mk_full_signature(\n",
    "#                                         serpent_code))\n",
    "#     data = translator.encode('main', [2, 5])\n",
    "#     s = tester.state()\n",
    "#     c = s.evm(evm_code)\n",
    "#     o = translator.decode('main', s.send(tester.k0, c, 0, data))\n",
    "#     assert o == [32]"
   ]
  },
  {
   "cell_type": "markdown",
   "metadata": {},
   "source": [
    "## Manage Timestamps \n",
    "\n",
    "Here there is solidity reference\n",
    "\n",
    "You can access the current block time using `block.timestamp` ('now' is a synonym of this). The time will be returned as a POSIX timestamp (basically the monotonous number of seconds since 1970-01-01 00:00:00 UTC).\n",
    "\n",
    "However, this timestamp is 'set' by the miner that ends up mining your transaction. As such, the miner can manipulate the timestamp. There are certain rules to this; other parties will not accept a block if the given timestamp occurs in the future, for instance (more detail about this). But this does mean that the number cannot be used for e.g. random number generation.\n",
    "\n",
    "If you want someone to only perform an action after one hour, you can at an earlier action (such as when the contract is created), store the current time, e.g.: `action_time = now;`, and then in another call, perform a check like: `require (now > (action_time + 1 hour));`"
   ]
  },
  {
   "cell_type": "markdown",
   "metadata": {},
   "source": [
    "## Testing Basics\n",
    "\n",
    "Introduce the `pyethereum.tester` package.\n",
    "\n",
    "https://github.com/ethereum/pyethereum/wiki/Using-pyethereum.tester\n",
    "\n",
    "Explain the component, that it provides keys and addresses etc..."
   ]
  },
  {
   "cell_type": "code",
   "execution_count": 246,
   "metadata": {},
   "outputs": [],
   "source": [
    "CONTRACT = \"./serpent_contracts/tests.se\"\n",
    "program = open(CONTRACT).read()\n",
    "machine_code = serpent.compile(program)"
   ]
  },
  {
   "cell_type": "markdown",
   "metadata": {},
   "source": [
    "The `c = t.Chain()` line initializes a new state (ie. a genesis block). The `c.contract(...)` line creates a new contract, and creates an object in Python which represents it. You can use x.address to access this contract's address. The fourth line calls the contract with argument 42, and we see 84 predictably come out."
   ]
  },
  {
   "cell_type": "code",
   "execution_count": 247,
   "metadata": {},
   "outputs": [
    {
     "name": "stdout",
     "output_type": "stream",
     "text": [
      "Initializing chain from provided state\n"
     ]
    }
   ],
   "source": [
    "c = t.Chain()\n",
    "contract = c.contract(program, language='serpent')\n",
    "contract_address = contract.address\n",
    "\n",
    "def parse_function(s):\n",
    "    # s = \"get_confirmation()\"\n",
    "    method       = s[:s.find(\"(\")]\n",
    "    args         = s[s.find(\"(\") + 1:-1]\n",
    "    args         = [int(e, 32) for e in args.split(\",\") if e]\n",
    "    call_data    = serpent.mk_full_signature(program)\n",
    "    call_data    = [e for e in call_data if e[\"name\"].startswith(method + \"(\")]\n",
    "    return method, args, call_data"
   ]
  },
  {
   "cell_type": "markdown",
   "metadata": {},
   "source": [
    "With `serpent.mk_full_signature` we can see the entire ABI **???** signature of the contract, i.e. the interface we can use to interact with the contract.\n",
    "For each function is defined its `name`, `inputs` and `outputs` types."
   ]
  },
  {
   "cell_type": "code",
   "execution_count": 248,
   "metadata": {},
   "outputs": [
    {
     "data": {
      "text/plain": [
       "[{'name': 'print_int()',\n",
       "  'type': 'function',\n",
       "  'constant': False,\n",
       "  'inputs': [],\n",
       "  'outputs': [{'name': 'out', 'type': 'int256'}]},\n",
       " {'name': 'print_string()',\n",
       "  'type': 'function',\n",
       "  'constant': False,\n",
       "  'inputs': [],\n",
       "  'outputs': [{'name': 'out', 'type': 'int256'}]},\n",
       " {'name': 'print_string_arg(int256)',\n",
       "  'type': 'function',\n",
       "  'constant': False,\n",
       "  'inputs': [{'name': 's', 'type': 'int256'}],\n",
       "  'outputs': [{'name': 'out', 'type': 'int256'}]},\n",
       " {'name': 'return_sum(int256,int256)',\n",
       "  'type': 'function',\n",
       "  'constant': False,\n",
       "  'inputs': [{'name': 'input1', 'type': 'int256'},\n",
       "   {'name': 'input2', 'type': 'int256'}],\n",
       "  'outputs': [{'name': 'out', 'type': 'int256'}]},\n",
       " {'name': 'test_contract()',\n",
       "  'type': 'function',\n",
       "  'constant': False,\n",
       "  'inputs': [],\n",
       "  'outputs': [{'name': 'out', 'type': 'int256'}]}]"
      ]
     },
     "execution_count": 248,
     "metadata": {},
     "output_type": "execute_result"
    }
   ],
   "source": [
    "serpent.mk_full_signature(program)"
   ]
  },
  {
   "cell_type": "code",
   "execution_count": 249,
   "metadata": {},
   "outputs": [],
   "source": [
    "# translator object useful to quickly translate value usign the contract's ABI specification\n",
    "translator = abi.ContractTranslator(serpent.mk_full_signature(program))"
   ]
  },
  {
   "cell_type": "markdown",
   "metadata": {},
   "source": [
    "Function `ContractTranslator.encode()`: returns the encoded function name and arguments so that it can be used with the evm to execute a funcion call, the binary string follows the Ethereum Contract ABI.\n",
    "\n",
    "We can now test some functions by calling the ABI interface of the contrat.\n",
    "\n",
    "Remember:\n",
    "   \n",
    "- `integer` argument: no need of encoding\n",
    "- `real` (`float`) argument\n",
    "- `string` argument: encode to 32bit integer using `int(arg, 32)`"
   ]
  },
  {
   "cell_type": "markdown",
   "metadata": {},
   "source": [
    "#### Test  `print_int()`"
   ]
  },
  {
   "cell_type": "code",
   "execution_count": 250,
   "metadata": {},
   "outputs": [
    {
     "name": "stdout",
     "output_type": "stream",
     "text": [
      "Hex result:\tb'\\x00\\x00\\x00\\x00\\x00\\x00\\x00\\x00\\x00\\x00\\x00\\x00\\x00\\x00\\x00\\x00\\x00\\x00\\x00\\x00\\x00\\x00\\x00\\x00\\x00\\x00\\x00\\x00\\x00\\x00\\x03\\xe8'\n"
     ]
    }
   ],
   "source": [
    "call_data = translator.encode('print_int', [])\n",
    "res = c.tx(sender=t.k0, to=contract_address, value=0, data=call_data)\n",
    "print(\"Hex result:\\t{}\".format(res))"
   ]
  },
  {
   "cell_type": "markdown",
   "metadata": {},
   "source": [
    "As you can see, the results is in hex format. The contract will treat all values as .... explain how the values are treated. How strings are converted etc...\n",
    "\n",
    "We can solve this calling `translator.decode` to decode the result according to the contract's ABI return value."
   ]
  },
  {
   "cell_type": "code",
   "execution_count": 251,
   "metadata": {},
   "outputs": [
    {
     "name": "stdout",
     "output_type": "stream",
     "text": [
      "Decoded result:\t[1000]\n"
     ]
    }
   ],
   "source": [
    "res = translator.decode('print_int', res)\n",
    "print(\"Decoded result:\\t{}\".format(res))"
   ]
  },
  {
   "cell_type": "markdown",
   "metadata": {},
   "source": [
    "#### Test `print_string()`"
   ]
  },
  {
   "cell_type": "code",
   "execution_count": 256,
   "metadata": {},
   "outputs": [
    {
     "name": "stdout",
     "output_type": "stream",
     "text": [
      "Hex result:\tb'It Works!\\x00\\x00\\x00\\x00\\x00\\x00\\x00\\x00\\x00\\x00\\x00\\x00\\x00\\x00\\x00\\x00\\x00\\x00\\x00\\x00\\x00\\x00\\x00'\n"
     ]
    }
   ],
   "source": [
    "call_data = translator.encode('print_string', [])\n",
    "res = c.tx(sender=t.k0, to=contract_address, value=0, data=call_data)\n",
    "print(\"Hex result:\\t{}\".format(res))"
   ]
  },
  {
   "cell_type": "code",
   "execution_count": 257,
   "metadata": {},
   "outputs": [
    {
     "name": "stdout",
     "output_type": "stream",
     "text": [
      "Decoded result:\t[33224015419227930193771281274863023050005528119172647639991667569939917570048]\n"
     ]
    }
   ],
   "source": [
    "res = translator.decode('print_string', res)\n",
    "print(\"Decoded result:\\t{}\".format(res))"
   ]
  },
  {
   "cell_type": "markdown",
   "metadata": {},
   "source": [
    "Ops! It seems that the decoding function converts our string to an integer representation. TODO: Go to see impl of decode()\n",
    "\n",
    "Notice the return value of the `print_string` function of the contract's ABI. \n",
    "\n",
    "``` \n",
    "{\n",
    " 'name': 'print_string()', \n",
    " 'type': 'function',\n",
    " 'constant': False,\n",
    " 'inputs': [], \n",
    " 'outputs': [{'name': 'out', 'type': 'int256'}]\n",
    "}\n",
    "```\n",
    "\n",
    "The `outputs` field is of type `int256`. As you remember from **???**  Serpent treat short string as integers..."
   ]
  },
  {
   "cell_type": "markdown",
   "metadata": {},
   "source": [
    "#### Test `print_string_arg(arg1)`"
   ]
  },
  {
   "cell_type": "code",
   "execution_count": 194,
   "metadata": {},
   "outputs": [
    {
     "name": "stdout",
     "output_type": "stream",
     "text": [
      "Hex result:\tb'\\x00\\x00\\x00\\x00\\x00\\x00\\x00\\x00\\x00\\x00\\x00\\x00\\x00\\x00\\x00\\x00\\x00\\x00\\x00\\x00Hello World!'\n"
     ]
    }
   ],
   "source": [
    "call_data = translator.encode('print_string_arg', [\"Hello World!\"])\n",
    "res = c.tx(sender=t.k0, to=contract_address, value=0, data=call_data)\n",
    "print(\"Hex result:\\t{}\".format(res))"
   ]
  },
  {
   "cell_type": "code",
   "execution_count": 195,
   "metadata": {},
   "outputs": [
    {
     "name": "stdout",
     "output_type": "stream",
     "text": [
      "Decoded result:\t[22405534230753928650781647905]\n"
     ]
    }
   ],
   "source": [
    "res = translator.decode('print_int', res)\n",
    "print(\"Decoded result:\\t{}\".format(res))"
   ]
  },
  {
   "cell_type": "markdown",
   "metadata": {},
   "source": [
    "#### Test `return_sum(arg1, arg2)`"
   ]
  },
  {
   "cell_type": "code",
   "execution_count": 198,
   "metadata": {},
   "outputs": [
    {
     "name": "stdout",
     "output_type": "stream",
     "text": [
      "Hex result:\tb'\\x00\\x00\\x00\\x00\\x00\\x00\\x00\\x00\\x00\\x00\\x00\\x00\\x00\\x00\\x00\\x00\\x00\\x00\\x00\\x00\\x00\\x00\\x00\\x00\\x00\\x00\\x00\\x00\\x00\\x00\\x00\\x0c'\n"
     ]
    }
   ],
   "source": [
    "call_data = translator.encode('return_sum', [5, 7])\n",
    "res = c.tx(sender=t.k0, to=contract_address, value=0, data=call_data)\n",
    "print(\"Hex result:\\t{}\".format(res))"
   ]
  },
  {
   "cell_type": "code",
   "execution_count": 199,
   "metadata": {},
   "outputs": [
    {
     "name": "stdout",
     "output_type": "stream",
     "text": [
      "Decoded result:\t[12]\n"
     ]
    }
   ],
   "source": [
    "res = translator.decode('print_int', res)\n",
    "print(\"Decoded result:\\t{}\".format(res))"
   ]
  },
  {
   "cell_type": "markdown",
   "metadata": {},
   "source": [
    "## Test long_string.se"
   ]
  },
  {
   "cell_type": "code",
   "execution_count": 21,
   "metadata": {},
   "outputs": [],
   "source": [
    "MY_STRING = \"Saving a string longer than 32 bytes!\""
   ]
  },
  {
   "cell_type": "markdown",
   "metadata": {},
   "source": [
    "**What to do in case we want to retun a string LONGER than 32 bytes? Try with `save()` and `load()`**"
   ]
  },
  {
   "cell_type": "code",
   "execution_count": 22,
   "metadata": {},
   "outputs": [
    {
     "name": "stdout",
     "output_type": "stream",
     "text": [
      "Initializing chain from provided state\n",
      "b'This is a string longer than 32 bytes, of 51 bytes!'\n"
     ]
    }
   ],
   "source": [
    "program = open(\"./serpent_contracts/long_string.se\").read()\n",
    "machine_code = serpent.compile(program)\n",
    "# blockchain = t.State(0)\n",
    "c = t.Chain()\n",
    "contract = c.contract(program, language='serpent')\n",
    "res = contract.saveTitle(0, MY_STRING)\n",
    "res = contract.getTitle(0)\n",
    "print(res)"
   ]
  },
  {
   "cell_type": "markdown",
   "metadata": {},
   "source": [
    "## Crowdfunding"
   ]
  },
  {
   "cell_type": "code",
   "execution_count": 205,
   "metadata": {},
   "outputs": [],
   "source": [
    "recipient = t.a0\n",
    "goal = 10  # 10 ether\n",
    "timelimit = 10 * 24 * 3600  # 10 days in seconds"
   ]
  },
  {
   "cell_type": "code",
   "execution_count": 204,
   "metadata": {},
   "outputs": [
    {
     "data": {
      "text/plain": [
       "b'\\x82\\xa9x\\xb3\\xf5\\x96*[\\tW\\xd9\\xee\\x9e\\xefG.\\xe5[B\\xf1'"
      ]
     },
     "execution_count": 204,
     "metadata": {},
     "output_type": "execute_result"
    }
   ],
   "source": [
    "recipient"
   ]
  },
  {
   "cell_type": "code",
   "execution_count": 234,
   "metadata": {},
   "outputs": [
    {
     "name": "stdout",
     "output_type": "stream",
     "text": [
      "Initializing chain from provided state\n"
     ]
    }
   ],
   "source": [
    "CONTRACT = \"./crowdfunding/my_cf.se\"\n",
    "program = open(CONTRACT).read()\n",
    "machine_code = serpent.compile(program)\n",
    "c = t.Chain()\n",
    "contract = c.contract(program, language='serpent')\n",
    "contract_address = contract.address\n",
    "translator = abi.ContractTranslator(serpent.mk_full_signature(program))\n",
    "\n",
    "def send(chain, translator, sender, to, method, args, value=0):\n",
    "    call_data = translator.encode(method, args)\n",
    "    res = chain.tx(sender=sender, to=to, value=value, data=call_data)\n",
    "    print(\"Hex result:\\t{}\".format(res))\n",
    "    if res != b'':\n",
    "        res = translator.decode('contribute', res)\n",
    "    else:\n",
    "        res = ''\n",
    "    print(\"Decoded result:\\t{}\".format(res))"
   ]
  },
  {
   "cell_type": "code",
   "execution_count": 235,
   "metadata": {},
   "outputs": [
    {
     "name": "stdout",
     "output_type": "stream",
     "text": [
      "Hex result:\tb'\\x00\\x00\\x00\\x00\\x00\\x00\\x00\\x00\\x00\\x00\\x00\\x00\\x82\\xa9x\\xb3\\xf5\\x96*[\\tW\\xd9\\xee\\x9e\\xefG.\\xe5[B\\xf1'\n",
      "Decoded result:\t[745948140856946866108753121277737810491401257713]\n"
     ]
    }
   ],
   "source": [
    "send(c, translator, t.k0, contract_address, \"create_campaign\", [recipient, goal, timelimit])"
   ]
  },
  {
   "cell_type": "code",
   "execution_count": 236,
   "metadata": {},
   "outputs": [
    {
     "name": "stdout",
     "output_type": "stream",
     "text": [
      "Hex result:\tb'\\x00\\x00\\x00\\x00\\x00\\x00\\x00\\x00\\x00\\x00\\x00\\x00\\x00\\x00\\x00\\x00\\x00\\x00\\x00\\x00\\x00\\x00\\x00\\x00\\x00\\x00\\x00\\x00\\x00\\x00\\x00\\t'\n",
      "Decoded result:\t[9]\n"
     ]
    }
   ],
   "source": [
    "send(c, translator, t.k1, contract_address, \"contribute\", [], value=9)"
   ]
  },
  {
   "cell_type": "code",
   "execution_count": null,
   "metadata": {},
   "outputs": [],
   "source": []
  },
  {
   "cell_type": "code",
   "execution_count": null,
   "metadata": {},
   "outputs": [],
   "source": []
  }
 ],
 "metadata": {
  "kernelspec": {
   "display_name": "Python 3",
   "language": "python",
   "name": "python3"
  },
  "language_info": {
   "codemirror_mode": {
    "name": "ipython",
    "version": 3
   },
   "file_extension": ".py",
   "mimetype": "text/x-python",
   "name": "python",
   "nbconvert_exporter": "python",
   "pygments_lexer": "ipython3",
   "version": "3.6.4"
  }
 },
 "nbformat": 4,
 "nbformat_minor": 2
}
